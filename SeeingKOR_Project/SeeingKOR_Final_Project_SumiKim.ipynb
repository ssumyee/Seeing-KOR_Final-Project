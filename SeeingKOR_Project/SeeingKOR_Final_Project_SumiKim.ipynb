{
 "cells": [
  {
   "cell_type": "markdown",
   "metadata": {},
   "source": [
    "# Seeing Korea_Final Project : Game 'The Host'"
   ]
  },
  {
   "cell_type": "markdown",
   "metadata": {},
   "source": [
    "### 20181202 Sumi Kim"
   ]
  },
  {
   "cell_type": "markdown",
   "metadata": {},
   "source": [
    "This document is about Final Project made by Sumi Kim, for the class 'Seeing Korea : An Introduction to Image Generation, Processing & Computer Vision."
   ]
  },
  {
   "cell_type": "markdown",
   "metadata": {},
   "source": [
    "This class is provided by Professor Yongduek Seo of Sogang University.  \n",
    "And this project is created based on knowledges that I learned in the class. Thank you."
   ]
  },
  {
   "cell_type": "code",
   "execution_count": 1,
   "metadata": {},
   "outputs": [],
   "source": [
    "import matplotlib.pyplot as plt\n",
    "import imageio"
   ]
  },
  {
   "cell_type": "markdown",
   "metadata": {},
   "source": [
    "(Tools for uploading images.)"
   ]
  },
  {
   "cell_type": "markdown",
   "metadata": {},
   "source": [
    "## 1. About Project"
   ]
  },
  {
   "cell_type": "markdown",
   "metadata": {},
   "source": [
    "My project is about 'Creating a Game Using Python and Pygame.'\n",
    "I was interested in the pygame among the contents that I learned in Seeing Korea class for a year. Also, since I like to play online/flash games, I decided to set the subject of the project as 'making a game'."
   ]
  },
  {
   "cell_type": "markdown",
   "metadata": {},
   "source": [
    "The motivation for choosing the theme of the game as a movie \"The Host\" was that I wanted to create something related to 'Korea'. So I came to think of turning the famous Korean movie \"The Host\" (by director Bong Joon-ho) into a flash game. The movie \"The Host\" not only captures the appearance and culture of Koreans, but also criticizes a side of Korean society.\n",
    "I searched for a game that based on the movie, but there was nothing. So I thought it would be good to opportunity to produce related content."
   ]
  },
  {
   "cell_type": "markdown",
   "metadata": {},
   "source": [
    "The game I'm going to introduce is similar to the \"fish game\" which can be commonly found on the Internet. If a counter object is bigger than player, its vitality wears out, and when it strikes an object smaller than the player, it grows bigger."
   ]
  },
  {
   "cell_type": "markdown",
   "metadata": {},
   "source": [
    "I referred to the code that can be downloaded from http://invpy.com/squirrel.py  \n",
    "The code above was referenced in a book titled Making games with Python & Pygame(2014) written by Al Schweikart. and is the code of a game in which squirrels grow while eating squirrels."
   ]
  },
  {
   "cell_type": "code",
   "execution_count": 2,
   "metadata": {},
   "outputs": [
    {
     "data": {
      "text/plain": [
       "<matplotlib.image.AxesImage at 0x118819128>"
      ]
     },
     "execution_count": 2,
     "metadata": {},
     "output_type": "execute_result"
    },
    {
     "data": {
      "image/png": "[encoded data removed]",
      "text/plain": [
       "<Figure size 432x288 with 1 Axes>"
      ]
     },
     "metadata": {
      "needs_background": "light"
     },
     "output_type": "display_data"
    }
   ],
   "source": [
    "plt.imshow(imageio.imread('Squirrel.png'))"
   ]
  },
  {
   "cell_type": "markdown",
   "metadata": {},
   "source": [
    "## 2. Making a code for a game"
   ]
  },
  {
   "cell_type": "markdown",
   "metadata": {},
   "source": [
    "Fisrt, declare necessary tools "
   ]
  },
  {
   "cell_type": "code",
   "execution_count": null,
   "metadata": {},
   "outputs": [],
   "source": [
    "import random, sys, time, math, pygame\n",
    "from pygame.locals import *\n",
    "import os"
   ]
  },
  {
   "cell_type": "code",
   "execution_count": null,
   "metadata": {},
   "outputs": [],
   "source": [
    "pygame.mixer.pre_init(44100, -16, 2, 2048) # setup mixer to avoid sound lag\n",
    "pygame.init()                              # initialize pygame\n",
    "\n",
    "try:\n",
    "    pygame.mixer.music.load(os.path.join('music', 'hanriver.mp3')) #load music\n",
    "    fail = pygame.mixer.Sound(os.path.join('music','MONSTER.wav'))  #load sound\n",
    "    hurt = pygame.mixer.Sound(os.path.join('music','hit.wav'))  #load sound\n",
    "    eat = pygame.mixer.Sound(os.path.join('music','headchop.wav'))  #load sound\n",
    "    win = pygame.mixer.Sound(os.path.join('music','m_victory.wav'))  #load sound\n",
    "\n",
    "\n",
    "except:\n",
    "    raise(UserWarning, \"could not load or play soundfiles in 'music' folder :-(\")\n",
    "    "
   ]
  },
  {
   "cell_type": "markdown",
   "metadata": {},
   "source": [
    "Upload sound files which will be used for background music and sound effect of the game."
   ]
  },
  {
   "cell_type": "code",
   "execution_count": null,
   "metadata": {},
   "outputs": [],
   "source": [
    "pygame.mixer.music.play(-1)  # play music non-stop"
   ]
  },
  {
   "cell_type": "markdown",
   "metadata": {},
   "source": [
    "Make background music don't stop while playing a game.  \n",
    "This music is remix version of the OST from movie 'The Host'."
   ]
  },
  {
   "cell_type": "code",
   "execution_count": null,
   "metadata": {},
   "outputs": [],
   "source": [
    "FPS = 30 # frames per second to update the screen\n",
    "WINWIDTH = 640 # width of the program's window, in pixels\n",
    "WINHEIGHT = 480 # height in pixels\n",
    "HALF_WINWIDTH = int(WINWIDTH / 2)\n",
    "HALF_WINHEIGHT = int(WINHEIGHT / 2)"
   ]
  },
  {
   "cell_type": "markdown",
   "metadata": {},
   "source": [
    "This step is to set the variables. Pre-setting the variables and store them in one place is very useful when you want to adjust values after.\n",
    "The above are the necessary variables for creating game-screen."
   ]
  },
  {
   "cell_type": "code",
   "execution_count": null,
   "metadata": {},
   "outputs": [],
   "source": [
    "BACKGROUNDCOLOR = (126, 150, 156)\n",
    "WHITE = (255, 255, 255)\n",
    "RED = (255, 0, 0)"
   ]
  },
  {
   "cell_type": "markdown",
   "metadata": {},
   "source": [
    "Above is the variable that sets the color values. I have specified the background color of the screen and the colors needed to draw the player's health-meter (survival-power)."
   ]
  },
  {
   "cell_type": "code",
   "execution_count": null,
   "metadata": {},
   "outputs": [],
   "source": [
    "CAMERASLACK = 90     # how far from the center the host moves before moving the camera\n",
    "MOVERATE = 9         # how fast the player moves\n",
    "BOUNCERATE = 6       # how fast the player bounces (large is slower)\n",
    "BOUNCEHEIGHT = 10    # how high the player bounces\n",
    "STARTSIZE = 30       # how big the player starts off\n",
    "WINSIZE = 300        # how big the player needs to be to win\n",
    "INVULNTIME = 2       # how long the player is invulnerable after being hit in seconds\n",
    "GAMEOVERTIME = 4     # how long the \"game over\" text stays on the screen in seconds\n",
    "MAXHEALTH = 3        # how much health the player starts with\n"
   ]
  },
  {
   "cell_type": "markdown",
   "metadata": {},
   "source": [
    "Those are variables to make the movement, size change of player and objects,   \n",
    "and to make the game start and over."
   ]
  },
  {
   "cell_type": "code",
   "execution_count": null,
   "metadata": {},
   "outputs": [],
   "source": [
    "NUMOBJ = 80     # number of objects in the active area\n",
    "NUMHOSTS = 30    # number of hostss in the active area\n",
    "HOSTMINSPEED = 3 # slowest host speed\n",
    "HOSTMAXSPEED = 7 # fastest host speed\n",
    "DIRCHANGEFREQ = 2    # % chance of direction change per frame\n",
    "LEFT = 'left'\n",
    "RIGHT = 'right'"
   ]
  },
  {
   "cell_type": "markdown",
   "metadata": {},
   "source": [
    "Variables for creating enemy objects on the screen and setting the sense of direction of them."
   ]
  },
  {
   "cell_type": "code",
   "execution_count": null,
   "metadata": {},
   "outputs": [],
   "source": [
    "def main():\n",
    "    global FPSCLOCK, DISPLAYSURF, BASICFONT, L_HOST_IMG, L_PERSON_IMG, R_HOST_IMG, R_PERSON_IMG, OBJIMAGES\n",
    "\n",
    "    pygame.init()\n",
    "    FPSCLOCK = pygame.time.Clock()\n",
    "    pygame.display.set_icon(pygame.image.load('HOST.png'))\n",
    "    DISPLAYSURF = pygame.display.set_mode((WINWIDTH, WINHEIGHT))\n",
    "    pygame.display.set_caption('The Host')\n",
    "    BASICFONT = pygame.font.Font('freesansbold.ttf', 32)\n",
    "\n",
    "    # load the image files\n",
    "    L_HOST_IMG = pygame.image.load('HOST.png')\n",
    "    L_PERSON_IMG = pygame.image.load('Person.png')\n",
    "    R_HOST_IMG = pygame.transform.flip(L_HOST_IMG, True, False)\n",
    "    R_PERSON_IMG = pygame.transform.flip(L_PERSON_IMG, True, False)\n",
    "\n",
    "    OBJIMAGES = []\n",
    "    for i in range(1, 6):\n",
    "        OBJIMAGES.append(pygame.image.load('object%s.png' % i))\n",
    "\n",
    "    while True:\n",
    "        runGame()\n",
    "        "
   ]
  },
  {
   "cell_type": "markdown",
   "metadata": {},
   "source": [
    "The above are commands to import image files to form objects in the game."
   ]
  },
  {
   "cell_type": "markdown",
   "metadata": {},
   "source": [
    "The objects of the game are not just shapes but images.  \n",
    "I draw images using the pixelated grid tool of Adobe Illustrator program.  \n",
    "The monster-player-icon was modeled after the monster in the movie 'The Host.'  \n",
    "The enemy-icon modeled after the researchers who jaywalked poison into the \"Han River,\" in the movie, who are responsible for the birth of a monster. They are dressed in protect coats which are commonly seen at radiological laboratories.  \n",
    "The object which will form the background of the game modeled after the objects which are commonly seen in the exact Han River Park, especially container boxes, road signs and tents."
   ]
  },
  {
   "cell_type": "code",
   "execution_count": 7,
   "metadata": {},
   "outputs": [
    {
     "data": {
      "text/plain": [
       "<matplotlib.image.AxesImage at 0x118df8ac8>"
      ]
     },
     "execution_count": 7,
     "metadata": {},
     "output_type": "execute_result"
    },
    {
     "data": {
      "image/png": "[encoded data removed]",
      "text/plain": [
       "<Figure size 432x288 with 1 Axes>"
      ]
     },
     "metadata": {
      "needs_background": "light"
     },
     "output_type": "display_data"
    }
   ],
   "source": [
    "plt.imshow(imageio.imread('HOST.png'))"
   ]
  },
  {
   "cell_type": "markdown",
   "metadata": {},
   "source": [
    "Pixel art that is modeled after the monster in the movie. It will be a player object."
   ]
  },
  {
   "cell_type": "code",
   "execution_count": 17,
   "metadata": {},
   "outputs": [
    {
     "data": {
      "text/plain": [
       "<matplotlib.image.AxesImage at 0x119d01c18>"
      ]
     },
     "execution_count": 17,
     "metadata": {},
     "output_type": "execute_result"
    },
    {
     "data": {
      "image/png": "[encoded data removed]",
      "text/plain": [
       "<Figure size 432x288 with 1 Axes>"
      ]
     },
     "metadata": {
      "needs_background": "light"
     },
     "output_type": "display_data"
    }
   ],
   "source": [
    "plt.imshow(imageio.imread('Person.png'))"
   ]
  },
  {
   "cell_type": "markdown",
   "metadata": {},
   "source": [
    "Pixel art modeled after the researchers in the movie. It will be an enemy object."
   ]
  },
  {
   "cell_type": "code",
   "execution_count": 11,
   "metadata": {},
   "outputs": [
    {
     "data": {
      "text/plain": [
       "<matplotlib.image.AxesImage at 0x1199ccc18>"
      ]
     },
     "execution_count": 11,
     "metadata": {},
     "output_type": "execute_result"
    },
    {
     "data": {
      "image/png": "[encoded data removed]",
      "text/plain": [
       "<Figure size 432x288 with 1 Axes>"
      ]
     },
     "metadata": {
      "needs_background": "light"
     },
     "output_type": "display_data"
    }
   ],
   "source": [
    "plt.imshow(imageio.imread('object1.png'))"
   ]
  },
  {
   "cell_type": "markdown",
   "metadata": {},
   "source": [
    "Pixel Art is modeled after container box. It will appear on the screen of the game."
   ]
  },
  {
   "cell_type": "code",
   "execution_count": 12,
   "metadata": {},
   "outputs": [
    {
     "data": {
      "text/plain": [
       "<matplotlib.image.AxesImage at 0x119a2a898>"
      ]
     },
     "execution_count": 12,
     "metadata": {},
     "output_type": "execute_result"
    },
    {
     "data": {
      "image/png": "[encoded data removed]",
      "text/plain": [
       "<Figure size 432x288 with 1 Axes>"
      ]
     },
     "metadata": {
      "needs_background": "light"
     },
     "output_type": "display_data"
    }
   ],
   "source": [
    "plt.imshow(imageio.imread('object2.png'))"
   ]
  },
  {
   "cell_type": "markdown",
   "metadata": {},
   "source": [
    "Pixel art that expresses bloodstains. It adds urgency and a virulent atmosphere to the scenes in which monsters prey on researchers ."
   ]
  },
  {
   "cell_type": "code",
   "execution_count": 13,
   "metadata": {},
   "outputs": [
    {
     "data": {
      "text/plain": [
       "<matplotlib.image.AxesImage at 0x1198f9b38>"
      ]
     },
     "execution_count": 13,
     "metadata": {},
     "output_type": "execute_result"
    },
    {
     "data": {
      "image/png": "[encoded data removed]",
      "text/plain": [
       "<Figure size 432x288 with 1 Axes>"
      ]
     },
     "metadata": {
      "needs_background": "light"
     },
     "output_type": "display_data"
    }
   ],
   "source": [
    "plt.imshow(imageio.imread('object3.png'))"
   ]
  },
  {
   "cell_type": "code",
   "execution_count": 14,
   "metadata": {},
   "outputs": [
    {
     "data": {
      "text/plain": [
       "<matplotlib.image.AxesImage at 0x119bb87b8>"
      ]
     },
     "execution_count": 14,
     "metadata": {},
     "output_type": "execute_result"
    },
    {
     "data": {
      "image/png": "[encoded data removed]",
      "text/plain": [
       "<Figure size 432x288 with 1 Axes>"
      ]
     },
     "metadata": {
      "needs_background": "light"
     },
     "output_type": "display_data"
    }
   ],
   "source": [
    "plt.imshow(imageio.imread('object4.png'))"
   ]
  },
  {
   "cell_type": "markdown",
   "metadata": {},
   "source": [
    "Two pixel art pieces modeled after a roadsign.It will appear on the screen of the game.  \n",
    "Lots of roadsigns appear in the film 'The Host' and plays important role in story, for example the main character uses the sign as a weapon."
   ]
  },
  {
   "cell_type": "code",
   "execution_count": 15,
   "metadata": {},
   "outputs": [
    {
     "data": {
      "text/plain": [
       "<matplotlib.image.AxesImage at 0x119b1e438>"
      ]
     },
     "execution_count": 15,
     "metadata": {},
     "output_type": "execute_result"
    },
    {
     "data": {
      "image/png": "[encoded data removed]",
      "text/plain": [
       "<Figure size 432x288 with 1 Axes>"
      ]
     },
     "metadata": {
      "needs_background": "light"
     },
     "output_type": "display_data"
    }
   ],
   "source": [
    "plt.imshow(imageio.imread('object5.png'))"
   ]
  },
  {
   "cell_type": "markdown",
   "metadata": {},
   "source": [
    "Pixel Art is modeled after a tent. It looks like a small hill, but it's definitely a tent.  \n",
    "In the movie, there are many tents in  Han River. The same is true of today's Han River."
   ]
  },
  {
   "cell_type": "markdown",
   "metadata": {},
   "source": [
    "Below is the code with the working principles of the game.  \n",
    "It's one function but I'll explain it by making parts, for better understanding. "
   ]
  },
  {
   "cell_type": "code",
   "execution_count": null,
   "metadata": {},
   "outputs": [],
   "source": [
    "def runGame():\n",
    "    invulnerableMode = False  # if the player is invulnerable\n",
    "    invulnerableStartTime = 0 # time the player became invulnerable\n",
    "    gameOverMode = False      # if the player has lost\n",
    "    gameOverStartTime = 0     # time the player lost\n",
    "    winMode = False           # if the player has won\n",
    "    "
   ]
  },
  {
   "cell_type": "markdown",
   "metadata": {},
   "source": [
    "Fisrt, set up variables for the start of a new game"
   ]
  },
  {
   "cell_type": "code",
   "execution_count": null,
   "metadata": {},
   "outputs": [],
   "source": [
    "    gameOverSurf = BASICFONT.render('Game Over', True, WHITE)\n",
    "    gameOverRect = gameOverSurf.get_rect()\n",
    "    gameOverRect.center = (HALF_WINWIDTH, HALF_WINHEIGHT)\n",
    "\n",
    "    winSurf = BASICFONT.render('You have achieved OMEGA Host!', True, WHITE)\n",
    "    winRect = winSurf.get_rect()\n",
    "    winRect.center = (HALF_WINWIDTH, HALF_WINHEIGHT)\n",
    "\n",
    "    winSurf2 = BASICFONT.render('(Press \"r\" to restart.)', True, WHITE)\n",
    "    winRect2 = winSurf2.get_rect()\n",
    "    winRect2.center = (HALF_WINWIDTH, HALF_WINHEIGHT + 30)\n",
    "    "
   ]
  },
  {
   "cell_type": "markdown",
   "metadata": {},
   "source": [
    "And create the surfaces to hold game text"
   ]
  },
  {
   "cell_type": "code",
   "execution_count": null,
   "metadata": {},
   "outputs": [],
   "source": [
    "    camerax = 0\n",
    "    cameray = 0"
   ]
  },
  {
   "cell_type": "markdown",
   "metadata": {},
   "source": [
    "'Camerax' and 'cameray' are the top left of where the camera view is.  \n",
    "Will be used on making def which adjusts viewpoint of a player."
   ]
  },
  {
   "cell_type": "code",
   "execution_count": null,
   "metadata": {},
   "outputs": [],
   "source": [
    "    O_Objs = []"
   ]
  },
  {
   "cell_type": "markdown",
   "metadata": {},
   "source": [
    "Stores all the objects in the game."
   ]
  },
  {
   "cell_type": "code",
   "execution_count": 19,
   "metadata": {},
   "outputs": [],
   "source": [
    "    personObjs = []\n",
    "    "
   ]
  },
  {
   "cell_type": "markdown",
   "metadata": {},
   "source": [
    "Stores all the non-player person objects."
   ]
  },
  {
   "cell_type": "code",
   "execution_count": null,
   "metadata": {},
   "outputs": [],
   "source": [
    "    playerObj = {'surface': pygame.transform.scale(L_HOST_IMG, (STARTSIZE,STARTSIZE)),\n",
    "                 'surface2': pygame.transform.scale(L_PERSON_IMG, (STARTSIZE,STARTSIZE)),\n",
    "                 'facing': LEFT,\n",
    "                 'size': STARTSIZE,\n",
    "                 'x': HALF_WINWIDTH,\n",
    "                 'y': HALF_WINHEIGHT,\n",
    "                 'bounce':0,\n",
    "                 'health': MAXHEALTH}\n",
    "\n",
    "    moveLeft  = False\n",
    "    moveRight = False\n",
    "    moveUp    = False\n",
    "    moveDown  = False\n",
    "    "
   ]
  },
  {
   "cell_type": "markdown",
   "metadata": {},
   "source": [
    "Stores the player object. Standard image of the player is facing left."
   ]
  },
  {
   "cell_type": "code",
   "execution_count": null,
   "metadata": {},
   "outputs": [],
   "source": [
    "    for i in range(10):\n",
    "        O_Objs.append(makeNewOBJ(camerax, cameray))\n",
    "        O_Objs[i]['x'] = random.randint(0, WINWIDTH)\n",
    "        O_Objs[i]['y'] = random.randint(0, WINHEIGHT)"
   ]
  },
  {
   "cell_type": "markdown",
   "metadata": {},
   "source": [
    "Start off with some random object images on the screen.  \n",
    "(Place random object on the random position.)"
   ]
  },
  {
   "cell_type": "code",
   "execution_count": null,
   "metadata": {},
   "outputs": [],
   "source": [
    "    while True: # main game loop\n",
    "        if invulnerableMode and time.time() - invulnerableStartTime > INVULNTIME:\n",
    "            invulnerableMode = False\n",
    "            "
   ]
  },
  {
   "cell_type": "markdown",
   "metadata": {},
   "source": [
    "This loop is main game loop.  \n",
    "First, check if we should turn off invulnerability.  \n",
    "\n",
    "+) invulnerability mode = The state in which the player doesn't wear damage.\n",
    "Player enters the invulnerability mode for a period of time when it collides with an enemy object larger than itself. After a period of time, the invulnerability mode stops."
   ]
  },
  {
   "cell_type": "code",
   "execution_count": null,
   "metadata": {},
   "outputs": [],
   "source": [
    "        for sObj in personObjs:\n",
    "            # move the person, and adjust for their bounce\n",
    "            sObj['x'] += sObj['movex']\n",
    "            sObj['y'] += sObj['movey']\n",
    "            sObj['bounce'] += 1\n",
    "            if sObj['bounce'] > sObj['bouncerate']:\n",
    "                sObj['bounce'] = 0 # reset bounce amount"
   ]
  },
  {
   "cell_type": "markdown",
   "metadata": {},
   "source": [
    "People/Person = Enemy object.  \n",
    "This loop makes all the people move and adjusts their bounce rate."
   ]
  },
  {
   "cell_type": "code",
   "execution_count": null,
   "metadata": {},
   "outputs": [],
   "source": [
    "            if random.randint(0, 99) < DIRCHANGEFREQ:\n",
    "                sObj['movex'] = getRandomVelocity()\n",
    "                sObj['movey'] = getRandomVelocity()\n",
    "                if sObj['movex'] > 0: # faces right\n",
    "                    sObj['surface2'] = pygame.transform.scale(R_PERSON_IMG, (sObj['width'], sObj['height']))\n",
    "                else: # faces left\n",
    "                    sObj['surface2'] = pygame.transform.scale(L_PERSON_IMG, (sObj['width'], sObj['height']))\n",
    "                    "
   ]
  },
  {
   "cell_type": "markdown",
   "metadata": {},
   "source": [
    "This loop makes enemy objects to change their moving direction ramdomly."
   ]
  },
  {
   "cell_type": "code",
   "execution_count": null,
   "metadata": {},
   "outputs": [],
   "source": [
    "        for i in range(len(O_Objs) - 1, -1, -1):\n",
    "            if isOutsideActiveArea(camerax, cameray, O_Objs[i]):\n",
    "                del O_Objs[i]\n",
    "        for i in range(len(personObjs) - 1, -1, -1):\n",
    "            if isOutsideActiveArea(camerax, cameray, personObjs[i]):\n",
    "                del personObjs[i]"
   ]
  },
  {
   "cell_type": "markdown",
   "metadata": {},
   "source": [
    "And if enemy onjects or background objects moves out of the screen, delete them."
   ]
  },
  {
   "cell_type": "code",
   "execution_count": null,
   "metadata": {},
   "outputs": [],
   "source": [
    "        # add more Objects & people if don't have enough.\n",
    "        while len(O_Objs) < NUMOBJ:\n",
    "            O_Objs.append(makeNewOBJ(camerax, cameray))\n",
    "        while len(personObjs) < NUMHOSTS:\n",
    "            personObjs.append(makeNewPerson(camerax, cameray))"
   ]
  },
  {
   "cell_type": "markdown",
   "metadata": {},
   "source": [
    "Since all the enemy objects move randomly and the player continuously moves their viewpoint, they can all get away from the current screen viewpoint.  \n",
    "So this loop counts the number of objects and if there are not enough on the screen, add some more."
   ]
  },
  {
   "cell_type": "code",
   "execution_count": null,
   "metadata": {},
   "outputs": [],
   "source": [
    "   # adjust camerax and cameray if beyond the \"camera slack\"\n",
    "        playerCenterx = playerObj['x'] + int(playerObj['size'] / 2)\n",
    "        playerCentery = playerObj['y'] + int(playerObj['size'] / 2)\n",
    "        if (camerax + HALF_WINWIDTH) - playerCenterx > CAMERASLACK:\n",
    "            camerax = playerCenterx + CAMERASLACK - HALF_WINWIDTH\n",
    "        elif playerCenterx - (camerax + HALF_WINWIDTH) > CAMERASLACK:\n",
    "            camerax = playerCenterx - CAMERASLACK - HALF_WINWIDTH\n",
    "        if (cameray + HALF_WINHEIGHT) - playerCentery > CAMERASLACK:\n",
    "            cameray = playerCentery + CAMERASLACK - HALF_WINHEIGHT\n",
    "        elif playerCentery - (cameray + HALF_WINHEIGHT) > CAMERASLACK:\n",
    "            cameray = playerCentery - CAMERASLACK - HALF_WINHEIGHT"
   ]
  },
  {
   "cell_type": "markdown",
   "metadata": {},
   "source": [
    "This function adjusts the players viewpoint of the screen.  \n",
    "Let me explain 'camera' and 'camera slack'.  "
   ]
  },
  {
   "cell_type": "markdown",
   "metadata": {},
   "source": [
    "First, variables 'camerax' and 'cameray' contain the camera's game coordinate system.  \n",
    "When the gaming world is said to be an infinite two-dimensional space, only a portion of it should be shown on the screen as a finite space. Let's call this 'screen' as 'camera'.  \n",
    "The space where a camera can see is called 'camera view'. 'Camera' coordinate system is the same as 'Pixel' coordinate system since space that what camera sees becomes the player's screen.  \n",
    "The origin of the game world is where the game coordinate system (0,0) is located, and to find out the pixel coordinate system of the player, you should subtract the game coordinate system of the camera origin from the player's game coordinate system.  "
   ]
  },
  {
   "cell_type": "markdown",
   "metadata": {},
   "source": [
    "When player moves, the position of the camera must also be changed. How many pixels a player can move without changing the position of the camera is called 'camera slack'.  \n",
    "Since we previously referred to as \"CAMERASLACK = 90\" in the step of setting the variable, if the player is more than 90 pixels away from the center, the camera changes its position to keep up with the player.  \n",
    "If this value is greater than the CAMERASLACK value when the center of the screen x-coordinates are taken from the center of the screen, the player has moved to the right than the center of the camera. This means that the player has come to the edge of the CAMERASLACK, so we have to change the value of the 'camerax'."
   ]
  },
  {
   "cell_type": "markdown",
   "metadata": {},
   "source": [
    "Now the codes below are for drawing(make them appear on the screen) objects."
   ]
  },
  {
   "cell_type": "code",
   "execution_count": null,
   "metadata": {},
   "outputs": [],
   "source": [
    "        DISPLAYSURF.fill(BACKGROUNDCOLOR)"
   ]
  },
  {
   "cell_type": "markdown",
   "metadata": {},
   "source": [
    "Fill background color."
   ]
  },
  {
   "cell_type": "code",
   "execution_count": null,
   "metadata": {},
   "outputs": [],
   "source": [
    "        for gObj in O_Objs:\n",
    "            gRect = pygame.Rect( (gObj['x'] - camerax,\n",
    "                                  gObj['y'] - cameray,\n",
    "                                  gObj['width'],\n",
    "                                  gObj['height']) )\n",
    "            DISPLAYSURF.blit(OBJIMAGES[gObj['objImage']], gRect)"
   ]
  },
  {
   "cell_type": "markdown",
   "metadata": {},
   "source": [
    "Draw all the background objects on the screen."
   ]
  },
  {
   "cell_type": "code",
   "execution_count": null,
   "metadata": {},
   "outputs": [],
   "source": [
    "        # draw the other people\n",
    "        for sObj in personObjs:\n",
    "            sObj['rect'] = pygame.Rect( (sObj['x'] - camerax,\n",
    "                                         sObj['y'] - cameray - getBounceAmount(sObj['bounce'], sObj['bouncerate'], sObj['bounceheight']),\n",
    "                                         sObj['width'],\n",
    "                                         sObj['height']) )\n",
    "            DISPLAYSURF.blit(sObj['surface2'], sObj['rect'])\n",
    "            "
   ]
  },
  {
   "cell_type": "markdown",
   "metadata": {},
   "source": [
    "Draw all the enemy objects on the screen."
   ]
  },
  {
   "cell_type": "code",
   "execution_count": null,
   "metadata": {},
   "outputs": [],
   "source": [
    "        # draw the player Host\n",
    "        flashIsOn = round(time.time(), 1) * 10 % 2 == 1\n",
    "        if not gameOverMode and not (invulnerableMode and flashIsOn):\n",
    "            playerObj['rect'] = pygame.Rect( (playerObj['x'] - camerax,\n",
    "                                              playerObj['y'] - cameray - getBounceAmount(playerObj['bounce'], BOUNCERATE, BOUNCEHEIGHT),\n",
    "                                              playerObj['size'],\n",
    "                                              playerObj['size']) )\n",
    "            DISPLAYSURF.blit(playerObj['surface'], playerObj['rect'])\n"
   ]
  },
  {
   "cell_type": "markdown",
   "metadata": {},
   "source": [
    "Draw all the palyer objects on the screen."
   ]
  },
  {
   "cell_type": "code",
   "execution_count": null,
   "metadata": {},
   "outputs": [],
   "source": [
    "        # draw the health meter\n",
    "        drawHealthMeter(playerObj['health'])                "
   ]
  },
  {
   "cell_type": "markdown",
   "metadata": {},
   "source": [
    "Draw healthmeter which shows how many life of the player left."
   ]
  },
  {
   "cell_type": "code",
   "execution_count": null,
   "metadata": {},
   "outputs": [],
   "source": [
    "        for event in pygame.event.get(): # event handling loop\n",
    "            if event.type == QUIT:\n",
    "                terminate()\n",
    "\n",
    "            elif event.type == KEYDOWN:\n",
    "                if event.key in (K_UP, K_w):\n",
    "                    moveDown = False\n",
    "                    moveUp = True\n",
    "                elif event.key in (K_DOWN, K_s):\n",
    "                    moveUp = False\n",
    "                    moveDown = True\n",
    "                elif event.key in (K_LEFT, K_a):\n",
    "                    moveRight = False\n",
    "                    moveLeft = True\n",
    "                    if playerObj['facing'] != LEFT: # change player image\n",
    "                        playerObj['surface'] = pygame.transform.scale(L_HOST_IMG, (playerObj['size'], playerObj['size']))\n",
    "                    playerObj['facing'] = LEFT\n",
    "                elif event.key in (K_RIGHT, K_d):\n",
    "                    moveLeft = False\n",
    "                    moveRight = True\n",
    "                    if playerObj['facing'] != RIGHT: # change player image\n",
    "                        playerObj['surface'] = pygame.transform.scale(R_HOST_IMG, (playerObj['size'], playerObj['size']))\n",
    "                    playerObj['facing'] = RIGHT\n",
    "                    \n",
    "                elif winMode and event.key == K_r:\n",
    "                    return\n",
    "                "
   ]
  },
  {
   "cell_type": "markdown",
   "metadata": {},
   "source": [
    "This allows player to adjust the player-host's movements with the direction keys on the keyboard. If player push keyboard, this function operates."
   ]
  },
  {
   "cell_type": "code",
   "execution_count": null,
   "metadata": {},
   "outputs": [],
   "source": [
    "            elif event.type == KEYUP:\n",
    "                # stop moving the player's Host\n",
    "                if event.key in (K_LEFT, K_a):\n",
    "                    moveLeft = False\n",
    "                elif event.key in (K_RIGHT, K_d):\n",
    "                    moveRight = False\n",
    "                elif event.key in (K_UP, K_w):\n",
    "                    moveUp = False\n",
    "                elif event.key in (K_DOWN, K_s):\n",
    "                    moveDown = False\n",
    "\n",
    "                elif event.key == K_ESCAPE:\n",
    "                    terminate()"
   ]
  },
  {
   "cell_type": "markdown",
   "metadata": {},
   "source": [
    "If player stop pushing keyboard, this function stops."
   ]
  },
  {
   "cell_type": "code",
   "execution_count": null,
   "metadata": {},
   "outputs": [],
   "source": [
    "        if not gameOverMode:\n",
    "            # actually move the player\n",
    "            if moveLeft:\n",
    "                playerObj['x'] -= MOVERATE\n",
    "            if moveRight:\n",
    "                playerObj['x'] += MOVERATE\n",
    "            if moveUp:\n",
    "                playerObj['y'] -= MOVERATE\n",
    "            if moveDown:\n",
    "                playerObj['y'] += MOVERATE\n",
    "\n",
    "            if (moveLeft or moveRight or moveUp or moveDown) or playerObj['bounce'] != 0:\n",
    "                playerObj['bounce'] += 1\n",
    "\n",
    "            if playerObj['bounce'] > BOUNCERATE:\n",
    "                playerObj['bounce'] = 0 # reset bounce amount\n",
    "                "
   ]
  },
  {
   "cell_type": "markdown",
   "metadata": {},
   "source": [
    "This function adjusts the position and bouncerate of the player."
   ]
  },
  {
   "cell_type": "code",
   "execution_count": null,
   "metadata": {},
   "outputs": [],
   "source": [
    "            # check if the player has collided with any people\n",
    "            for i in range(len(personObjs)-1, -1, -1):\n",
    "                psObj = personObjs[i]\n",
    "                if 'rect' in psObj and playerObj['rect'].colliderect(psObj['rect']):\n",
    "                    # a player/person collision has occurred\n",
    "                    "
   ]
  },
  {
   "cell_type": "markdown",
   "metadata": {},
   "source": [
    "This function is for checking 'collision'.  \n",
    "Collision indicates the situation that player object and enemy object encountered."
   ]
  },
  {
   "cell_type": "code",
   "execution_count": null,
   "metadata": {},
   "outputs": [],
   "source": [
    "                    if psObj['width'] * psObj['height'] <= playerObj['size']**2:\n",
    "                        # player is larger and eats the PERSON\n",
    "                        eat.play() # play sound effect\n",
    "                        playerObj['size'] += int( (psObj['width'] * psObj['height'])**0.2 ) + 1\n",
    "                        del personObjs[i]\n",
    "\n",
    "                        if playerObj['facing'] == LEFT:\n",
    "                            playerObj['surface'] = pygame.transform.scale(L_HOST_IMG, (playerObj['size'], playerObj['size']))\n",
    "                        if playerObj['facing'] == RIGHT:\n",
    "                            playerObj['surface'] = pygame.transform.scale(R_HOST_IMG, (playerObj['size'], playerObj['size']))\n",
    "\n",
    "                        if playerObj['size'] > WINSIZE:\n",
    "                            winMode = True # turn on \"win mode\"\n",
    "                            "
   ]
  },
  {
   "cell_type": "markdown",
   "metadata": {},
   "source": [
    "If player is larger than enemy, it eats the enemy and gets bigger. Also a sound effect is played at the moment."
   ]
  },
  {
   "cell_type": "code",
   "execution_count": null,
   "metadata": {},
   "outputs": [],
   "source": [
    "                    elif not invulnerableMode:\n",
    "                        # player is smaller and takes damage\n",
    "                        hurt.play() # play sound effect\n",
    "                        invulnerableMode = True\n",
    "                        invulnerableStartTime = time.time()\n",
    "                        playerObj['health'] -= 1\n",
    "                        if playerObj['health'] == 0:\n",
    "                            fail.play() # play sound effect\n",
    "                            gameOverMode = True # turn on \"game over mode\"\n",
    "                            gameOverStartTime = time.time()"
   ]
  },
  {
   "cell_type": "markdown",
   "metadata": {},
   "source": [
    "If player is smaller than the enemy, it gets hurt and invulnerableMode turns on for a moment. Also a sound effect is played."
   ]
  },
  {
   "cell_type": "code",
   "execution_count": null,
   "metadata": {},
   "outputs": [],
   "source": [
    "    else:\n",
    "            # game is over, show \"game over\" text\n",
    "            DISPLAYSURF.blit(gameOverSurf, gameOverRect)\n",
    "            if time.time() - gameOverStartTime > GAMEOVERTIME:\n",
    "                return # end the current game"
   ]
  },
  {
   "cell_type": "markdown",
   "metadata": {},
   "source": [
    "If player loses all the life power, the game overs.  \n",
    "If game is over, player icon disappears and 'Game Over' text appears on the screen."
   ]
  },
  {
   "cell_type": "code",
   "execution_count": null,
   "metadata": {},
   "outputs": [],
   "source": [
    "    # check if the player has won.\n",
    "        if winMode:\n",
    "            DISPLAYSURF.blit(winSurf, winRect)\n",
    "            DISPLAYSURF.blit(winSurf2, winRect2)\n",
    "\n",
    "        pygame.display.update()\n",
    "        FPSCLOCK.tick(FPS)"
   ]
  },
  {
   "cell_type": "markdown",
   "metadata": {},
   "source": [
    "If player became particular size, the player wins."
   ]
  },
  {
   "cell_type": "code",
   "execution_count": null,
   "metadata": {},
   "outputs": [],
   "source": [
    "def drawHealthMeter(currentHealth):\n",
    "    for i in range(currentHealth): # draw red health bars\n",
    "        pygame.draw.rect(DISPLAYSURF, RED,   (15, 5 + (10 * MAXHEALTH) - i * 10, 20, 10))\n",
    "    for i in range(MAXHEALTH): # draw the white outlines\n",
    "        pygame.draw.rect(DISPLAYSURF, WHITE, (15, 5 + (10 * MAXHEALTH) - i * 10, 20, 10), 1)\n"
   ]
  },
  {
   "cell_type": "markdown",
   "metadata": {},
   "source": [
    "Function for drawing HealthMeter."
   ]
  },
  {
   "cell_type": "code",
   "execution_count": null,
   "metadata": {},
   "outputs": [],
   "source": [
    "def terminate():\n",
    "    pygame.quit()\n",
    "    sys.exit()"
   ]
  },
  {
   "cell_type": "markdown",
   "metadata": {},
   "source": [
    "Function for ending a game."
   ]
  },
  {
   "cell_type": "code",
   "execution_count": null,
   "metadata": {},
   "outputs": [],
   "source": [
    "def getBounceAmount(currentBounce, bounceRate, bounceHeight):\n",
    "    # Returns the number of pixels to offset based on the bounce.\n",
    "    # Larger bounceRate means a slower bounce.\n",
    "    # Larger bounceHeight means a higher bounce.\n",
    "    # currentBounce will always be less than bounceRate\n",
    "    return int(math.sin( (math.pi / float(bounceRate)) * currentBounce ) * bounceHeight)\n"
   ]
  },
  {
   "cell_type": "markdown",
   "metadata": {},
   "source": [
    "Function for adjusting bouncerate(speed and height)."
   ]
  },
  {
   "cell_type": "code",
   "execution_count": null,
   "metadata": {},
   "outputs": [],
   "source": [
    "def getRandomVelocity():\n",
    "    speed = random.randint(HOSTMINSPEED, HOSTMAXSPEED)\n",
    "    if random.randint(0, 1) == 0:\n",
    "        return speed\n",
    "    else:\n",
    "        return -speed"
   ]
  },
  {
   "cell_type": "markdown",
   "metadata": {},
   "source": [
    "Function for adjusting velocity of enemy objects."
   ]
  },
  {
   "cell_type": "code",
   "execution_count": null,
   "metadata": {},
   "outputs": [],
   "source": [
    "def getRandomOffCameraPos(camerax, cameray, objWidth, objHeight):\n",
    "    # create a Rect of the camera view\n",
    "    cameraRect = pygame.Rect(camerax, cameray, WINWIDTH, WINHEIGHT)\n",
    "    while True:\n",
    "        x = random.randint(camerax - WINWIDTH, camerax + (2 * WINWIDTH))\n",
    "        y = random.randint(cameray - WINHEIGHT, cameray + (2 * WINHEIGHT))\n",
    "        # create a Rect object with the random coordinates and use colliderect()\n",
    "        # to make sure the right edge isn't in the camera view.\n",
    "        objRect = pygame.Rect(x, y, objWidth, objHeight)\n",
    "        if not objRect.colliderect(cameraRect):\n",
    "            return x, y\n",
    "        "
   ]
  },
  {
   "cell_type": "markdown",
   "metadata": {},
   "source": [
    "Function for making 'rect-object' for camera view."
   ]
  },
  {
   "cell_type": "code",
   "execution_count": null,
   "metadata": {},
   "outputs": [],
   "source": [
    "def makeNewPerson(camerax, cameray):\n",
    "    ps = {}\n",
    "    generalSize = random.randint(5, 30)\n",
    "    multiplier = random.randint(1, 3)\n",
    "    ps['width']  = (generalSize + random.randint(0, 15)) * multiplier\n",
    "    ps['height'] = ps['width']\n",
    "    ps['x'], ps['y'] = getRandomOffCameraPos(camerax, cameray, ps['width'], ps['height'])\n",
    "    ps['movex'] = getRandomVelocity()\n",
    "    ps['movey'] = getRandomVelocity()\n",
    "    if ps['movex'] < 0: # person is facing left\n",
    "        ps['surface2'] = pygame.transform.scale(L_PERSON_IMG, (ps['width'], ps['height']))\n",
    "    else: # person is facing right\n",
    "        ps['surface2'] = pygame.transform.scale(R_PERSON_IMG, (ps['width'], ps['height']))\n",
    "    ps['bounce'] = 0\n",
    "    ps['bouncerate'] = random.randint(10, 18)\n",
    "    ps['bounceheight'] = random.randint(10, 50)\n",
    "    return ps\n"
   ]
  },
  {
   "cell_type": "markdown",
   "metadata": {},
   "source": [
    "Function for adding new enemy object in the field."
   ]
  },
  {
   "cell_type": "code",
   "execution_count": null,
   "metadata": {},
   "outputs": [],
   "source": [
    "def makeNewOBJ(camerax, cameray):\n",
    "    gr = {}\n",
    "    gr['objImage'] = random.randint(0, len(OBJIMAGES) - 1)\n",
    "    gr['width']  = OBJIMAGES[0].get_width()\n",
    "    gr['height'] = OBJIMAGES[0].get_height()\n",
    "    gr['x'], gr['y'] = getRandomOffCameraPos(camerax, cameray, gr['width'], gr['height'])\n",
    "    gr['rect'] = pygame.Rect( (gr['x'], gr['y'], gr['width'], gr['height']) )\n",
    "    return gr\n"
   ]
  },
  {
   "cell_type": "markdown",
   "metadata": {},
   "source": [
    "Function for adding new background object in the field."
   ]
  },
  {
   "cell_type": "code",
   "execution_count": null,
   "metadata": {},
   "outputs": [],
   "source": [
    "def isOutsideActiveArea(camerax, cameray, obj):\n",
    "    boundsLeftEdge = camerax - WINWIDTH\n",
    "    boundsTopEdge = cameray - WINHEIGHT\n",
    "    boundsRect = pygame.Rect(boundsLeftEdge, boundsTopEdge, WINWIDTH * 3, WINHEIGHT * 3)\n",
    "    objRect = pygame.Rect(obj['x'], obj['y'], obj['width'], obj['height'])\n",
    "    return not boundsRect.colliderect(objRect)\n"
   ]
  },
  {
   "cell_type": "markdown",
   "metadata": {},
   "source": [
    "Return False if camerax and cameray are more than a half-window length beyond the edge of the window."
   ]
  },
  {
   "cell_type": "code",
   "execution_count": null,
   "metadata": {},
   "outputs": [],
   "source": [
    "if __name__ == '__main__':\n",
    "    main()"
   ]
  },
  {
   "cell_type": "markdown",
   "metadata": {},
   "source": [
    "Finish!"
   ]
  },
  {
   "cell_type": "markdown",
   "metadata": {},
   "source": [
    "## 3. Results"
   ]
  },
  {
   "cell_type": "markdown",
   "metadata": {},
   "source": [
    "Below are screenshots of the game play."
   ]
  },
  {
   "cell_type": "code",
   "execution_count": 21,
   "metadata": {},
   "outputs": [
    {
     "data": {
      "text/plain": [
       "<matplotlib.image.AxesImage at 0x11f6e35c0>"
      ]
     },
     "execution_count": 21,
     "metadata": {},
     "output_type": "execute_result"
    },
    {
     "data": {
      "image/png": "[encoded data removed]",
      "text/plain": [
       "<Figure size 432x288 with 1 Axes>"
      ]
     },
     "metadata": {
      "needs_background": "light"
     },
     "output_type": "display_data"
    }
   ],
   "source": [
    "plt.imshow(imageio.imread('GAME1.png'))"
   ]
  },
  {
   "cell_type": "markdown",
   "metadata": {},
   "source": [
    "The game overs when all the life wears out."
   ]
  },
  {
   "cell_type": "code",
   "execution_count": 22,
   "metadata": {},
   "outputs": [
    {
     "data": {
      "text/plain": [
       "<matplotlib.image.AxesImage at 0x11f785898>"
      ]
     },
     "execution_count": 22,
     "metadata": {},
     "output_type": "execute_result"
    },
    {
     "data": {
      "image/png": "[encoded data removed]",
      "text/plain": [
       "<Figure size 432x288 with 1 Axes>"
      ]
     },
     "metadata": {
      "needs_background": "light"
     },
     "output_type": "display_data"
    }
   ],
   "source": [
    "plt.imshow(imageio.imread('GAME2.png'))"
   ]
  },
  {
   "cell_type": "markdown",
   "metadata": {},
   "source": [
    "At first, the player-host is small."
   ]
  },
  {
   "cell_type": "code",
   "execution_count": 23,
   "metadata": {},
   "outputs": [
    {
     "data": {
      "text/plain": [
       "<matplotlib.image.AxesImage at 0x1217b6d68>"
      ]
     },
     "execution_count": 23,
     "metadata": {},
     "output_type": "execute_result"
    },
    {
     "data": {
      "image/png": "[encoded data removed]",
      "text/plain": [
       "<Figure size 432x288 with 1 Axes>"
      ]
     },
     "metadata": {
      "needs_background": "light"
     },
     "output_type": "display_data"
    }
   ],
   "source": [
    "plt.imshow(imageio.imread('GAME3.png'))"
   ]
  },
  {
   "cell_type": "markdown",
   "metadata": {},
   "source": [
    "It grows up eating enemy objects."
   ]
  },
  {
   "cell_type": "code",
   "execution_count": 24,
   "metadata": {},
   "outputs": [
    {
     "data": {
      "text/plain": [
       "<matplotlib.image.AxesImage at 0x12198e278>"
      ]
     },
     "execution_count": 24,
     "metadata": {},
     "output_type": "execute_result"
    },
    {
     "data": {
      "image/png": "[encoded data removed]",
      "text/plain": [
       "<Figure size 432x288 with 1 Axes>"
      ]
     },
     "metadata": {
      "needs_background": "light"
     },
     "output_type": "display_data"
    }
   ],
   "source": [
    "plt.imshow(imageio.imread('GAME4.png'))"
   ]
  },
  {
   "cell_type": "markdown",
   "metadata": {},
   "source": [
    "When the player-host reaches certain size,\n",
    "the win-text appears on the screen.  \n",
    "( win-text : You have achieved OMEGA Host! (Press \"r\"to restart) )"
   ]
  },
  {
   "cell_type": "markdown",
   "metadata": {},
   "source": [
    "## 4. Feelings after the Project"
   ]
  },
  {
   "cell_type": "markdown",
   "metadata": {},
   "source": [
    "It was my first time to make a game by myself.  \n",
    "It was fun experience and made me grow up.\n",
    "If I come down to make game next time, I want to add more delicate animation and make graphics better. And also I want to experience other programs for game-making, such as 'Unity'.\n"
   ]
  },
  {
   "cell_type": "markdown",
   "metadata": {},
   "source": [
    "Thank you so much!"
   ]
  }
 ],
 "metadata": {
  "kernelspec": {
   "display_name": "Python 3",
   "language": "python",
   "name": "python3"
  },
  "language_info": {
   "codemirror_mode": {
    "name": "ipython",
    "version": 3
   },
   "file_extension": ".py",
   "mimetype": "text/x-python",
   "name": "python",
   "nbconvert_exporter": "python",
   "pygments_lexer": "ipython3",
   "version": "3.7.2"
  }
 },
 "nbformat": 4,
 "nbformat_minor": 2
}
